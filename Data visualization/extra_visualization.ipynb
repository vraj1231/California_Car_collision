{
 "cells": [
  {
   "cell_type": "code",
   "execution_count": 2,
   "metadata": {
    "ExecuteTime": {
     "end_time": "2021-05-18T05:45:10.507489Z",
     "start_time": "2021-05-18T05:45:09.696217Z"
    }
   },
   "outputs": [],
   "source": [
    "import pandas as pd\n",
    "import numpy as np\n",
    "import matplotlib.pyplot as plt\n",
    "import seaborn as sns \n",
    "import sqlite3\n",
    "import plotly.graph_objects as go\n",
    "import plotly.express as px"
   ]
  },
  {
   "cell_type": "code",
   "execution_count": 4,
   "metadata": {
    "ExecuteTime": {
     "end_time": "2021-05-18T05:45:38.189680Z",
     "start_time": "2021-05-18T05:45:38.176714Z"
    }
   },
   "outputs": [],
   "source": [
    "import psycopg2\n",
    "redshift_endpoint = \"crvdata228.cg8wngt1z9jx.us-west-1.redshift.amazonaws.com\"\n",
    "redshift_user = \"data_228\"\n",
    "redshift_pass = \"CRVanalytics228\"\n",
    "port = 5439\n",
    "dbname = \"dev\"\n",
    "\n",
    "from sqlalchemy import create_engine\n",
    "from sqlalchemy import text\n",
    "engine_string = \"postgresql+psycopg2://%s:%s@%s:%d/%s\" \\\n",
    "% (redshift_user, redshift_pass, redshift_endpoint, port, dbname)\n",
    "engine = create_engine(engine_string)\n",
    "# con = sqlite3.connect(r'C:\\Users\\mistr\\OneDrive\\Documents\\DATA 228\\Dataset\\switrs.sqlite')\n",
    "# cur = con.cursor()"
   ]
  },
  {
   "cell_type": "code",
   "execution_count": 3,
   "metadata": {
    "ExecuteTime": {
     "end_time": "2021-05-18T05:45:31.085850Z",
     "start_time": "2021-05-18T05:45:31.071886Z"
    }
   },
   "outputs": [],
   "source": []
  },
  {
   "cell_type": "code",
   "execution_count": null,
   "metadata": {
    "ExecuteTime": {
     "start_time": "2021-05-17T22:29:26.105Z"
    }
   },
   "outputs": [],
   "source": [
    "data = pd.read_sql(\"Select jurisdiction, latitude, longitude, caltrans_county, tow_away, state_route, state_highway_indicator From collisions\" , con)"
   ]
  },
  {
   "cell_type": "code",
   "execution_count": null,
   "metadata": {
    "ExecuteTime": {
     "start_time": "2021-05-17T22:29:26.108Z"
    }
   },
   "outputs": [],
   "source": [
    "data.head()\n",
    "\n",
    "data_cleaned = data.dropna()\n",
    "data_cleaned.head()\n"
   ]
  },
  {
   "cell_type": "code",
   "execution_count": null,
   "metadata": {
    "ExecuteTime": {
     "start_time": "2021-05-17T22:29:26.109Z"
    }
   },
   "outputs": [],
   "source": [
    "data_cleaned_1 = data_cleaned['caltrans_county'].value_counts()\n",
    "data_cleaned_1.drop_duplicates(keep = False, inplace = True)\n",
    "data_cleaned_2 = data_cleaned_1.head(20)\n",
    "data_cleaned_2"
   ]
  },
  {
   "cell_type": "code",
   "execution_count": null,
   "metadata": {
    "ExecuteTime": {
     "start_time": "2021-05-17T22:29:26.111Z"
    }
   },
   "outputs": [],
   "source": [
    "fig_1 = px.bar(data_cleaned_2, y = data_cleaned_2.unique(), x= data_cleaned_2.index, color = data_cleaned_2.unique())\n",
    "fig_1.update_xaxes(title_text='number of state_route in California')\n",
    "fig_1.update_yaxes(title_text='number of total accidents')                                \n",
    "fig_1.show()"
   ]
  },
  {
   "cell_type": "code",
   "execution_count": null,
   "metadata": {
    "ExecuteTime": {
     "start_time": "2021-05-17T22:29:26.112Z"
    }
   },
   "outputs": [],
   "source": [
    "py.plot(fig_1, filename = \"Top_10_state_route_collision\" ,auto_open= True)"
   ]
  },
  {
   "cell_type": "code",
   "execution_count": null,
   "metadata": {
    "ExecuteTime": {
     "start_time": "2021-05-17T22:29:26.114Z"
    }
   },
   "outputs": [],
   "source": [
    "fig = px.pie(data_cleaned_2, names= data_cleaned_2.index, values= data_cleaned_2.unique(), title='Top 20 state_route in california with car collision')\n",
    "fig.show()"
   ]
  },
  {
   "cell_type": "code",
   "execution_count": null,
   "metadata": {
    "ExecuteTime": {
     "start_time": "2021-05-17T22:29:26.115Z"
    }
   },
   "outputs": [],
   "source": [
    "py.plot(fig, filename = \"Top_20_state_route_collision\" ,auto_open= True)"
   ]
  },
  {
   "cell_type": "code",
   "execution_count": null,
   "metadata": {
    "ExecuteTime": {
     "start_time": "2021-05-17T22:29:26.116Z"
    }
   },
   "outputs": [],
   "source": [
    "py.plot(fig_1, filename = \"collision_cali_county\" ,auto_open= True)"
   ]
  },
  {
   "cell_type": "code",
   "execution_count": null,
   "metadata": {
    "ExecuteTime": {
     "start_time": "2021-05-17T22:29:26.117Z"
    }
   },
   "outputs": [],
   "source": [
    "\n",
    "fig_2 = px.scatter_mapbox(data_cleaned, lat= data_cleaned[\"latitude\"], lon= data_cleaned[\"longitude\"], color= data_cleaned[\"caltrans_county\"] , hover_name = data_cleaned[\"tow_away\"])\n",
    "fig_2.update_layout(mapbox_style=\"open-street-map\") \n",
    "fig_2.show()"
   ]
  },
  {
   "cell_type": "code",
   "execution_count": null,
   "metadata": {
    "ExecuteTime": {
     "start_time": "2021-05-17T22:29:26.119Z"
    }
   },
   "outputs": [],
   "source": [
    "\n",
    "fig_3 = px.scatter_mapbox(data_cleaned, lat= data_cleaned[\"latitude\"], lon= data_cleaned[\"longitude\"], color= data_cleaned[\"location_type\"])\n",
    "fig_3.update_layout(mapbox_style=\"open-street-map\") \n",
    "fig_3.show()"
   ]
  },
  {
   "cell_type": "code",
   "execution_count": null,
   "metadata": {
    "ExecuteTime": {
     "start_time": "2021-05-17T22:29:26.120Z"
    }
   },
   "outputs": [],
   "source": [
    "import chart_studio\n",
    "import chart_studio.plotly as py\n",
    "import chart_studio.tools as tls\n",
    "\n",
    "\n",
    "username_py = 'vraj31'\n",
    "api_key_py = 'M4Jcu9eJVOn8ZenvRRw7'\n",
    "\n",
    "tls.set_credentials_file(username=username_py, api_key = api_key_py)\n"
   ]
  },
  {
   "cell_type": "code",
   "execution_count": null,
   "metadata": {
    "ExecuteTime": {
     "start_time": "2021-05-17T22:29:26.121Z"
    }
   },
   "outputs": [],
   "source": [
    "#py.plot(fig_2, filename = \"map_road_condition_SJ_main\" ,auto_open= True)"
   ]
  },
  {
   "cell_type": "code",
   "execution_count": null,
   "metadata": {
    "ExecuteTime": {
     "start_time": "2021-05-17T22:29:26.122Z"
    }
   },
   "outputs": [],
   "source": [
    "#py.plot(fig_3, filename = \"map_location_type_SJ_main\" ,auto_open= True)"
   ]
  },
  {
   "cell_type": "code",
   "execution_count": null,
   "metadata": {
    "ExecuteTime": {
     "start_time": "2021-05-17T22:29:26.123Z"
    }
   },
   "outputs": [],
   "source": [
    "data_new = pd.read_sql(\"Select pedestrian_killed_count, pedestrian_injured_count, bicyclist_killed_count, bicyclist_injured_count, motorcyclist_killed_count, motorcyclist_injured_count From collisions\", con)\n",
    "data_new.head()"
   ]
  },
  {
   "cell_type": "code",
   "execution_count": null,
   "metadata": {
    "ExecuteTime": {
     "start_time": "2021-05-17T22:29:26.124Z"
    }
   },
   "outputs": [],
   "source": [
    "data_cleaned_1 = data_new.dropna()\n",
    "data_cleaned_1.head()"
   ]
  },
  {
   "cell_type": "code",
   "execution_count": null,
   "metadata": {
    "ExecuteTime": {
     "start_time": "2021-05-17T22:29:26.126Z"
    },
    "scrolled": true
   },
   "outputs": [],
   "source": [
    "data_cleaned_1.value_counts()"
   ]
  },
  {
   "cell_type": "code",
   "execution_count": null,
   "metadata": {
    "ExecuteTime": {
     "start_time": "2021-05-17T22:29:26.128Z"
    },
    "scrolled": true
   },
   "outputs": [],
   "source": [
    "data_newyork = pd.read_csv (r'C:\\Users\\mistr\\OneDrive\\Documents\\DATA 228\\Dataset\\nypd-motor-vehicle-collisions.csv')\n",
    "data_newyork.head()"
   ]
  },
  {
   "cell_type": "code",
   "execution_count": null,
   "metadata": {
    "ExecuteTime": {
     "start_time": "2021-05-17T22:29:26.128Z"
    }
   },
   "outputs": [],
   "source": [
    "data_map = data_newyork[[\"LATITUDE\",\"LONGITUDE\", \"BOROUGH\"]]\n",
    "data_map_cleaned = data_map.dropna()\n",
    "data_map_cleaned.head()"
   ]
  },
  {
   "cell_type": "code",
   "execution_count": null,
   "metadata": {
    "ExecuteTime": {
     "start_time": "2021-05-17T22:29:26.129Z"
    }
   },
   "outputs": [],
   "source": [
    " = data_map_cleaned[\"BOROUGH\"].value_counts()"
   ]
  },
  {
   "cell_type": "code",
   "execution_count": null,
   "metadata": {
    "ExecuteTime": {
     "start_time": "2021-05-17T22:29:26.131Z"
    }
   },
   "outputs": [],
   "source": [
    "fig_4 = px.scatter_mapbox(data_map_cleaned, lat= data_map_cleaned[\"LATITUDE\"], lon= data_map_cleaned[\"LONGITUDE\"], color= data_map_cleaned[\"BOROUGH\"], hover_name = data_map_cleaned)\n",
    "fig_4.update_layout(mapbox_style=\"open-street-map\") \n",
    "fig_4.show()"
   ]
  },
  {
   "cell_type": "code",
   "execution_count": null,
   "metadata": {
    "ExecuteTime": {
     "start_time": "2021-05-17T22:29:26.132Z"
    }
   },
   "outputs": [],
   "source": [
    "data_killed_victims = data_newyork[['NUMBER OF PEDESTRIANS INJURED', 'NUMBER OF PEDESTRIANS KILLED', 'NUMBER OF CYCLIST INJURED', 'NUMBER OF CYCLIST KILLED', 'NUMBER OF MOTORIST INJURED', 'NUMBER OF MOTORIST KILLED']]\n",
    "data_killed_victims.head()"
   ]
  },
  {
   "cell_type": "code",
   "execution_count": null,
   "metadata": {
    "ExecuteTime": {
     "start_time": "2021-05-17T22:29:26.133Z"
    }
   },
   "outputs": [],
   "source": [
    "data_killed_cleaned = data_killed_victims.dropna()\n",
    "data_killed_cleaned.head()"
   ]
  },
  {
   "cell_type": "code",
   "execution_count": null,
   "metadata": {
    "ExecuteTime": {
     "start_time": "2021-05-17T22:29:26.134Z"
    }
   },
   "outputs": [],
   "source": [
    "data_killed_count = data_killed_cleaned[\"NUMBER OF PEDESTRIANS INJURED\"].value_counts()\n",
    "data_killed_count"
   ]
  }
 ],
 "metadata": {
  "kernelspec": {
   "display_name": "Python 3",
   "language": "python",
   "name": "python3"
  },
  "language_info": {
   "codemirror_mode": {
    "name": "ipython",
    "version": 3
   },
   "file_extension": ".py",
   "mimetype": "text/x-python",
   "name": "python",
   "nbconvert_exporter": "python",
   "pygments_lexer": "ipython3",
   "version": "3.7.6"
  }
 },
 "nbformat": 4,
 "nbformat_minor": 4
}

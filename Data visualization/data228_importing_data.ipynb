{
 "cells": [
  {
   "cell_type": "code",
   "execution_count": 2,
   "metadata": {
    "ExecuteTime": {
     "end_time": "2021-05-15T20:40:54.745074Z",
     "start_time": "2021-05-15T20:40:54.187086Z"
    }
   },
   "outputs": [],
   "source": [
    "import pandas as pd\n"
   ]
  },
  {
   "cell_type": "code",
   "execution_count": 4,
   "metadata": {
    "ExecuteTime": {
     "end_time": "2021-04-21T18:01:34.542485Z",
     "start_time": "2021-04-21T18:01:28.313741Z"
    }
   },
   "outputs": [
    {
     "name": "stderr",
     "output_type": "stream",
     "text": [
      "C:\\Users\\mistr\\anaconda3\\lib\\site-packages\\IPython\\core\\interactiveshell.py:3146: DtypeWarning: Columns (3) have mixed types.Specify dtype option on import or set low_memory=False.\n",
      "  interactivity=interactivity, compiler=compiler, result=result)\n"
     ]
    },
    {
     "name": "stdout",
     "output_type": "stream",
     "text": [
      "['ACCIDENT DATE', 'ACCIDENT TIME', 'BOROUGH', 'ZIP CODE', 'LATITUDE', 'LONGITUDE', 'LOCATION', 'ON STREET NAME', 'CROSS STREET NAME', 'OFF STREET NAME', 'NUMBER OF PERSONS INJURED', 'NUMBER OF PERSONS KILLED', 'NUMBER OF PEDESTRIANS INJURED', 'NUMBER OF PEDESTRIANS KILLED', 'NUMBER OF CYCLIST INJURED', 'NUMBER OF CYCLIST KILLED', 'NUMBER OF MOTORIST INJURED', 'NUMBER OF MOTORIST KILLED', 'CONTRIBUTING FACTOR VEHICLE 1', 'CONTRIBUTING FACTOR VEHICLE 2', 'CONTRIBUTING FACTOR VEHICLE 3', 'CONTRIBUTING FACTOR VEHICLE 4', 'CONTRIBUTING FACTOR VEHICLE 5', 'COLLISION_ID', 'VEHICLE TYPE CODE 1', 'VEHICLE TYPE CODE 2', 'VEHICLE TYPE CODE 3', 'VEHICLE TYPE CODE 4', 'VEHICLE TYPE CODE 5']\n"
     ]
    }
   ],
   "source": [
    "data = pd.read_csv(r\"C:\\Users\\mistr\\OneDrive\\Documents\\DATA 228\\project\\data\\nypd-motor-vehicle-collisions.csv\")\n",
    "\n",
    "data.head()\n",
    "print(data.columns.tolist())"
   ]
  },
  {
   "cell_type": "code",
   "execution_count": 5,
   "metadata": {
    "ExecuteTime": {
     "end_time": "2021-04-21T18:11:26.351236Z",
     "start_time": "2021-04-21T18:10:51.479160Z"
    }
   },
   "outputs": [
    {
     "name": "stdout",
     "output_type": "stream",
     "text": [
      "['ID', 'Source', 'TMC', 'Severity', 'Start_Time', 'End_Time', 'Start_Lat', 'Start_Lng', 'End_Lat', 'End_Lng', 'Distance(mi)', 'Description', 'Number', 'Street', 'Side', 'City', 'County', 'State', 'Zipcode', 'Country', 'Timezone', 'Airport_Code', 'Weather_Timestamp', 'Temperature(F)', 'Wind_Chill(F)', 'Humidity(%)', 'Pressure(in)', 'Visibility(mi)', 'Wind_Direction', 'Wind_Speed(mph)', 'Precipitation(in)', 'Weather_Condition', 'Amenity', 'Bump', 'Crossing', 'Give_Way', 'Junction', 'No_Exit', 'Railway', 'Roundabout', 'Station', 'Stop', 'Traffic_Calming', 'Traffic_Signal', 'Turning_Loop', 'Sunrise_Sunset', 'Civil_Twilight', 'Nautical_Twilight', 'Astronomical_Twilight']\n"
     ]
    }
   ],
   "source": [
    "data1 = pd.read_csv(r\"C:\\Users\\mistr\\OneDrive\\Documents\\DATA 228\\project\\data\\US_Accidents_Dec20.csv\")\n",
    "\n",
    "data.head()\n",
    "print(data1.columns.tolist())"
   ]
  },
  {
   "cell_type": "code",
   "execution_count": 14,
   "metadata": {
    "ExecuteTime": {
     "end_time": "2021-04-22T19:27:56.110285Z",
     "start_time": "2021-04-22T19:26:45.594469Z"
    }
   },
   "outputs": [
    {
     "name": "stdout",
     "output_type": "stream",
     "text": [
      "['case_id', 'jurisdiction', 'officer_id', 'reporting_district', 'chp_shift', 'population', 'county_city_location', 'special_condition', 'beat_type', 'chp_beat_type', 'city_division_lapd', 'chp_beat_class', 'beat_number', 'primary_road', 'secondary_road', 'distance', 'direction', 'intersection', 'weather_1', 'weather_2', 'state_highway_indicator', 'caltrans_county', 'caltrans_district', 'state_route', 'route_suffix', 'postmile_prefix', 'postmile', 'location_type', 'ramp_intersection', 'side_of_highway', 'tow_away', 'collision_severity', 'killed_victims', 'injured_victims', 'party_count', 'primary_collision_factor', 'pcf_violation_code', 'pcf_violation_category', 'pcf_violation', 'pcf_violation_subsection', 'hit_and_run', 'type_of_collision', 'motor_vehicle_involved_with', 'pedestrian_action', 'road_surface', 'road_condition_1', 'road_condition_2', 'lighting', 'control_device', 'chp_road_type', 'pedestrian_collision', 'bicycle_collision', 'motorcycle_collision', 'truck_collision', 'not_private_property', 'alcohol_involved', 'statewide_vehicle_type_at_fault', 'chp_vehicle_type_at_fault', 'severe_injury_count', 'other_visible_injury_count', 'complaint_of_pain_injury_count', 'pedestrian_killed_count', 'pedestrian_injured_count', 'bicyclist_killed_count', 'bicyclist_injured_count', 'motorcyclist_killed_count', 'motorcyclist_injured_count', 'primary_ramp', 'secondary_ramp', 'latitude', 'longitude', 'collision_date', 'collision_time', 'process_date']\n"
     ]
    }
   ],
   "source": [
    "data2 = pd.read_csv(r\"C:\\Users\\mistr\\OneDrive\\Documents\\DATA 228\\project\\data\\collisions.csv\")\n",
    "\n",
    "print(data2.columns.tolist())"
   ]
  },
  {
   "cell_type": "code",
   "execution_count": 4,
   "metadata": {
    "ExecuteTime": {
     "end_time": "2021-04-22T21:24:41.164908Z",
     "start_time": "2021-04-22T21:24:16.691026Z"
    }
   },
   "outputs": [
    {
     "name": "stdout",
     "output_type": "stream",
     "text": [
      "['ID', 'Source', 'TMC', 'Severity', 'Start_Time', 'End_Time', 'Start_Lat', 'Start_Lng', 'End_Lat', 'End_Lng', 'Distance(mi)', 'Description', 'Number', 'Street', 'Side', 'City', 'County', 'State', 'Zipcode', 'Country', 'Timezone', 'Airport_Code', 'Weather_Timestamp', 'Temperature(F)', 'Wind_Chill(F)', 'Humidity(%)', 'Pressure(in)', 'Visibility(mi)', 'Wind_Direction', 'Wind_Speed(mph)', 'Precipitation(in)', 'Weather_Condition', 'Amenity', 'Bump', 'Crossing', 'Give_Way', 'Junction', 'No_Exit', 'Railway', 'Roundabout', 'Station', 'Stop', 'Traffic_Calming', 'Traffic_Signal', 'Turning_Loop', 'Sunrise_Sunset', 'Civil_Twilight', 'Nautical_Twilight', 'Astronomical_Twilight']\n"
     ]
    },
    {
     "ename": "NameError",
     "evalue": "name 'count' is not defined",
     "output_type": "error",
     "traceback": [
      "\u001b[1;31m---------------------------------------------------------------------------\u001b[0m",
      "\u001b[1;31mNameError\u001b[0m                                 Traceback (most recent call last)",
      "\u001b[1;32m<ipython-input-4-de6881e30509>\u001b[0m in \u001b[0;36m<module>\u001b[1;34m\u001b[0m\n\u001b[0;32m      3\u001b[0m \u001b[0mprint\u001b[0m\u001b[1;33m(\u001b[0m\u001b[0mdata3\u001b[0m\u001b[1;33m.\u001b[0m\u001b[0mcolumns\u001b[0m\u001b[1;33m.\u001b[0m\u001b[0mtolist\u001b[0m\u001b[1;33m(\u001b[0m\u001b[1;33m)\u001b[0m\u001b[1;33m)\u001b[0m\u001b[1;33m\u001b[0m\u001b[1;33m\u001b[0m\u001b[0m\n\u001b[0;32m      4\u001b[0m \u001b[1;33m\u001b[0m\u001b[0m\n\u001b[1;32m----> 5\u001b[1;33m \u001b[0mcount\u001b[0m\u001b[1;33m(\u001b[0m\u001b[0mdata3\u001b[0m\u001b[1;33m.\u001b[0m\u001b[0mcolumns\u001b[0m\u001b[1;33m.\u001b[0m\u001b[0mtolist\u001b[0m\u001b[1;33m(\u001b[0m\u001b[1;33m)\u001b[0m\u001b[1;33m)\u001b[0m\u001b[1;33m\u001b[0m\u001b[1;33m\u001b[0m\u001b[0m\n\u001b[0m",
      "\u001b[1;31mNameError\u001b[0m: name 'count' is not defined"
     ]
    }
   ],
   "source": [
    "data3 = pd.read_csv(r\"C:\\Users\\mistr\\OneDrive\\Documents\\DATA 228\\project\\data\\US_Accidents_Dec20.csv\")\n",
    "\n",
    "print(data3.columns.tolist())\n"
   ]
  },
  {
   "cell_type": "code",
   "execution_count": 6,
   "metadata": {
    "ExecuteTime": {
     "end_time": "2021-04-22T21:26:01.809047Z",
     "start_time": "2021-04-22T21:26:01.787106Z"
    }
   },
   "outputs": [
    {
     "data": {
      "text/plain": [
       "49"
      ]
     },
     "execution_count": 6,
     "metadata": {},
     "output_type": "execute_result"
    }
   ],
   "source": [
    "len(data3.columns.tolist())"
   ]
  },
  {
   "cell_type": "code",
   "execution_count": 4,
   "metadata": {
    "ExecuteTime": {
     "end_time": "2021-04-22T19:08:59.098013Z",
     "start_time": "2021-04-22T19:08:57.295400Z"
    }
   },
   "outputs": [
    {
     "name": "stdout",
     "output_type": "stream",
     "text": [
      "Collecting mysqlclient\n",
      "  Downloading mysqlclient-2.0.3-cp37-cp37m-win_amd64.whl (178 kB)\n",
      "Installing collected packages: mysqlclient\n",
      "Successfully installed mysqlclient-2.0.3\n",
      "Note: you may need to restart the kernel to use updated packages.\n"
     ]
    }
   ],
   "source": [
    "pip install mysqlclient"
   ]
  },
  {
   "cell_type": "code",
   "execution_count": 5,
   "metadata": {
    "ExecuteTime": {
     "end_time": "2021-04-22T19:18:14.700990Z",
     "start_time": "2021-04-22T19:18:09.499525Z"
    }
   },
   "outputs": [
    {
     "ename": "TypeError",
     "evalue": "to_sql() missing 1 required positional argument: 'con'",
     "output_type": "error",
     "traceback": [
      "\u001b[1;31m---------------------------------------------------------------------------\u001b[0m",
      "\u001b[1;31mTypeError\u001b[0m                                 Traceback (most recent call last)",
      "\u001b[1;32m<ipython-input-5-48ca4b0889ea>\u001b[0m in \u001b[0;36m<module>\u001b[1;34m\u001b[0m\n\u001b[0;32m      6\u001b[0m \u001b[0mengine\u001b[0m \u001b[1;33m=\u001b[0m \u001b[0mcreate_engine\u001b[0m\u001b[1;33m(\u001b[0m\u001b[1;34m'postgresql://postgres:Vm@123198@localhost/db'\u001b[0m\u001b[1;33m,\u001b[0m \u001b[0mecho\u001b[0m\u001b[1;33m=\u001b[0m\u001b[1;32mFalse\u001b[0m\u001b[1;33m)\u001b[0m\u001b[1;33m\u001b[0m\u001b[1;33m\u001b[0m\u001b[0m\n\u001b[0;32m      7\u001b[0m \u001b[1;33m\u001b[0m\u001b[0m\n\u001b[1;32m----> 8\u001b[1;33m \u001b[0mdf\u001b[0m\u001b[1;33m.\u001b[0m\u001b[0mto_sql\u001b[0m\u001b[1;33m(\u001b[0m\u001b[0mengine\u001b[0m\u001b[1;33m,\u001b[0m \u001b[0mindex\u001b[0m\u001b[1;33m=\u001b[0m\u001b[1;32mFalse\u001b[0m\u001b[1;33m)\u001b[0m\u001b[1;33m\u001b[0m\u001b[1;33m\u001b[0m\u001b[0m\n\u001b[0m",
      "\u001b[1;31mTypeError\u001b[0m: to_sql() missing 1 required positional argument: 'con'"
     ]
    }
   ],
   "source": [
    "from sqlalchemy import create_engine\n",
    "import pandas as pd\n",
    "\n",
    "df = pd.read_csv(r'C:\\Users\\mistr\\OneDrive\\Documents\\DATA 228\\project\\data\\nypd-motor-vehicle-collisions.csv', sep='|')\n",
    "\n",
    "engine = create_engine('postgresql://postgres:Vm@123198@localhost/db', echo=False)\n",
    "\n",
    "df.to_sql(engine, index=False)\n"
   ]
  },
  {
   "cell_type": "code",
   "execution_count": null,
   "metadata": {},
   "outputs": [],
   "source": [
    "CREATE TABLE collisions(\n",
    "  case_id TEXT,\n",
    "  jurisdiction INT,\n",
    "  officer_id TEXT,\n",
    "  reporting_district TEXT,\n",
    "  chp_shift TEXT,\n",
    "  population TEXT,\n",
    "  county_city_location TEXT,\n",
    "  special_condition TEXT,\n",
    "  beat_type TEXT,\n",
    "  chp_beat_type TEXT,\n",
    "  city_division_lapd TEXT,\n",
    "  chp_beat_class TEXT,\n",
    "  beat_number TEXT,\n",
    "  primary_road TEXT,\n",
    "  secondary_road TEXT,\n",
    "  distance FLOAT,\n",
    "  direction TEXT,\n",
    "  intersection INT,\n",
    "  weather_1 TEXT,\n",
    "  weather_2 TEXT,\n",
    "  state_highway_indicator INT,\n",
    "  caltrans_county TEXT,\n",
    "  caltrans_district INT,\n",
    "  state_route INT,\n",
    "  route_suffix TEXT,\n",
    "  postmile_prefix TEXT,\n",
    "  postmile FLOAT,\n",
    "  location_type TEXT,\n",
    "  ramp_intersection INT,\n",
    "  side_of_highway TEXT,\n",
    "  tow_away INT,\n",
    "  collision_severity TEXT,\n",
    "  killed_victims INT,\n",
    "  injured_victims INT,\n",
    "  party_count INT,\n",
    "  primary_collision_factor TEXT,\n",
    "  pcf_violation_code TEXT,\n",
    "  pcf_violation_category TEXT,\n",
    "  pcf_violation INT,\n",
    "  pcf_violation_subsection TEXT,\n",
    "  hit_and_run TEXT,\n",
    "  type_of_collision TEXT,\n",
    "  motor_vehicle_involved_with TEXT,\n",
    "  pedestrian_action TEXT,\n",
    "  road_surface TEXT,\n",
    "  road_condition_1 TEXT,\n",
    "  road_condition_2 TEXT,\n",
    "  lighting TEXT,\n",
    "  control_device TEXT,\n",
    "  chp_road_type TEXT,\n",
    "  pedestrian_collision INT,\n",
    "  bicycle_collision INT,\n",
    "  motorcycle_collision INT,\n",
    "  truck_collision INT,\n",
    "  not_private_property INT,\n",
    "  alcohol_involved INT,\n",
    "  statewide_vehicle_type_at_fault TEXT,\n",
    "  chp_vehicle_type_at_fault TEXT,\n",
    "  severe_injury_count INT,\n",
    "  other_visible_injury_count INT,\n",
    "  complaint_of_pain_injury_count INT,\n",
    "  pedestrian_killed_count INT,\n",
    "  pedestrian_injured_count INT,\n",
    "  bicyclist_killed_count INT,\n",
    "  bicyclist_injured_count INT,\n",
    "  motorcyclist_killed_count INT,\n",
    "  motorcyclist_injured_count INT,\n",
    "  primary_ramp TEXT,\n",
    "  secondary_ramp TEXT,\n",
    "  latitude FLOAT,\n",
    "  longitude FLOAT,\n",
    "  collision_date TEXT,\n",
    "  collision_time TEXT,\n",
    "  process_date TEXT\n",
    ")"
   ]
  },
  {
   "cell_type": "code",
   "execution_count": null,
   "metadata": {},
   "outputs": [],
   "source": [
    "CREATE US_elect_2020 (\n",
    "ID text, \n",
    "Source text,\n",
    "TMC double, \n",
    "Severity int, \n",
    "Start_Time datetime, \n",
    "End_Time datetime, \n",
    "Start_Lat datetime, \n",
    "Start_Lng datetime, \n",
    "End_Lat text, \n",
    "End_Lng bigint, \n",
    "Distance(mi) double ,\n",
    "Description text ,\n",
    "Number double ,\n",
    "Street bigint ,\n",
    "Side text ,\n",
    "City text ,\n",
    "County text, \n",
    "State text \n",
    "Zipcode text, \n",
    "Country text ,\n",
    "Timezone bigint, \n",
    "Airport_Code bigint, \n",
    "Weather_Timestamp datetime, \n",
    "Temperature(F) double ,\n",
    "Wind_Chill(F) double ,\n",
    "Humidity(%) double ,\n",
    "Pressure(in) double ,\n",
    "Visibility(mi) double, \n",
    "Wind_Direction text ,\n",
    "Wind_Speed(mph) double, \n",
    "Precipitation(in) double, \n",
    "Weather_Condition text ,\n",
    "Amenity text ,\n",
    "Bump text ,\n",
    "Crossing text ,\n",
    "Give_Way text ,\n",
    "Junction text ,\n",
    "No_Exit text ,\n",
    "Railway text ,\n",
    "Roundabout text ,\n",
    "Station text ,\n",
    "Stop text ,\n",
    "Traffic_Calming text ,\n",
    "Traffic_Signal text ,\n",
    "Turning_Loop text ,\n",
    "Sunrise_Sunset text ,\n",
    "Civil_Twilight text ,\n",
    "Nautical_Twilight text , \n",
    "Astronomical_Twilight text )"
   ]
  },
  {
   "cell_type": "code",
   "execution_count": null,
   "metadata": {},
   "outputs": [],
   "source": [
    "Create tablename (\n",
    "ACCIDENT DATE text  , \n",
    "ACCIDENT TIME text ,\n",
    "BOROUGH text ,\n",
    "ZIP CODE int ,\n",
    "LATITUDE double, \n",
    "LONGITUDE double ,\n",
    "LOCATION text ,\n",
    "ON STREET NAME text ,\n",
    "CROSS STREET NAME text, \n",
    "OFF STREET NAME text ,\n",
    "NUMBER OF PERSONS INJURED int ,\n",
    "NUMBER OF PERSONS KILLED int ,\n",
    "NUMBER OF PEDESTRIANS INJURED int, \n",
    "NUMBER OF PEDESTRIANS KILLED int ,\n",
    "NUMBER OF CYCLIST INJURED int ,\n",
    "NUMBER OF CYCLIST KILLED int ,\n",
    "NUMBER OF MOTORIST INJURED int, \n",
    "NUMBER OF MOTORIST KILLED int ,\n",
    "CONTRIBUTING FACTOR VEHICLE 1 text \n",
    "CONTRIBUTING FACTOR VEHICLE 2 text, \n",
    "CONTRIBUTING FACTOR VEHICLE 3 text ,\n",
    "CONTRIBUTING FACTOR VEHICLE 4 text ,\n",
    "CONTRIBUTING FACTOR VEHICLE 5 text ,\n",
    "COLLISION_ID int ,\n",
    "VEHICLE TYPE CODE 1 text, \n",
    "VEHICLE TYPE CODE 2 text ,\n",
    "VEHICLE TYPE CODE 3 text ,\n",
    "VEHICLE TYPE CODE 4 text ,\n",
    "VEHICLE TYPE CODE 5 text\n",
    ")"
   ]
  },
  {
   "cell_type": "code",
   "execution_count": 3,
   "metadata": {
    "ExecuteTime": {
     "end_time": "2021-05-15T20:41:30.850440Z",
     "start_time": "2021-05-15T20:40:57.170873Z"
    }
   },
   "outputs": [
    {
     "name": "stderr",
     "output_type": "stream",
     "text": [
      "C:\\Users\\mistr\\anaconda3\\lib\\site-packages\\IPython\\core\\interactiveshell.py:3146: DtypeWarning: Columns (11,15,16,29,30) have mixed types.Specify dtype option on import or set low_memory=False.\n",
      "  interactivity=interactivity, compiler=compiler, result=result)\n"
     ]
    },
    {
     "name": "stdout",
     "output_type": "stream",
     "text": [
      "['id', 'case_id', 'party_number', 'party_type', 'at_fault', 'party_sex', 'party_age', 'party_sobriety', 'party_drug_physical', 'direction_of_travel', 'party_safety_equipment_1', 'party_safety_equipment_2', 'financial_responsibility', 'hazardous_materials', 'cellphone_use', 'school_bus_related', 'oaf_violation_code', 'oaf_violation_category', 'oaf_violation_section', 'oaf_violation_suffix', 'other_associate_factor_1', 'other_associate_factor_2', 'party_number_killed', 'party_number_injured', 'movement_preceding_collision', 'vehicle_year', 'vehicle_make', 'statewide_vehicle_type', 'chp_vehicle_type_towing', 'chp_vehicle_type_towed', 'party_race']\n"
     ]
    }
   ],
   "source": [
    "data3 = pd.read_csv(r\"C:\\Users\\mistr\\OneDrive\\Documents\\GitHub\\CA_car_accident_project\\Dataset\\parties.csv\")\n",
    "\n",
    "print(data3.columns.tolist())"
   ]
  },
  {
   "cell_type": "code",
   "execution_count": 6,
   "metadata": {
    "ExecuteTime": {
     "end_time": "2021-05-15T20:54:57.833222Z",
     "start_time": "2021-05-15T20:54:52.138349Z"
    }
   },
   "outputs": [
    {
     "name": "stderr",
     "output_type": "stream",
     "text": [
      "C:\\Users\\mistr\\anaconda3\\lib\\site-packages\\IPython\\core\\interactiveshell.py:3146: DtypeWarning: Columns (3,7,9,10) have mixed types.Specify dtype option on import or set low_memory=False.\n",
      "  interactivity=interactivity, compiler=compiler, result=result)\n"
     ]
    },
    {
     "name": "stdout",
     "output_type": "stream",
     "text": [
      "['id', 'case_id', 'party_number', 'victim_role', 'victim_sex', 'victim_age', 'victim_degree_of_injury', 'victim_seating_position', 'victim_safety_equipment_1', 'victim_safety_equipment_2', 'victim_ejected']\n"
     ]
    }
   ],
   "source": [
    "data4 = pd.read_csv(r\"C:\\Users\\mistr\\OneDrive\\Documents\\GitHub\\CA_car_accident_project\\Dataset\\victims.csv\", delimiter = \";\")\n",
    "\n",
    "print(data4.columns.tolist())"
   ]
  }
 ],
 "metadata": {
  "kernelspec": {
   "display_name": "Python 3",
   "language": "python",
   "name": "python3"
  },
  "language_info": {
   "codemirror_mode": {
    "name": "ipython",
    "version": 3
   },
   "file_extension": ".py",
   "mimetype": "text/x-python",
   "name": "python",
   "nbconvert_exporter": "python",
   "pygments_lexer": "ipython3",
   "version": "3.7.6"
  }
 },
 "nbformat": 4,
 "nbformat_minor": 4
}
